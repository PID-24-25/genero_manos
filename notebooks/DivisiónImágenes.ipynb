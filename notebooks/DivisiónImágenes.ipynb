{
 "cells": [
  {
   "cell_type": "code",
   "execution_count": null,
   "metadata": {},
   "outputs": [
    {
     "name": "stdout",
     "output_type": "stream",
     "text": [
      "Imágenes guardadas en /home/ale/Documentos/PID/genero_manos/dataset/image\n"
     ]
    }
   ],
   "source": [
    "import os\n",
    "import shutil\n",
    "import pandas as pd\n",
    "from sklearn.model_selection import train_test_split\n",
    "\n",
    "def create_directories(base_dir, subsets):\n",
    "    for subset in subsets:\n",
    "        dir_path = os.path.join(base_dir, subset)\n",
    "        if not os.path.exists(dir_path):\n",
    "            os.makedirs(dir_path)\n",
    "\n",
    "def save_images_to_folders(images, image_names, subset, image_dir, base_dir):\n",
    "    subset_dir = os.path.join(base_dir, subset)\n",
    "    \n",
    "    for image, image_name in zip(images, image_names):\n",
    "        image_path = os.path.join(image_dir, image_name)\n",
    "        \n",
    "        dest_path = os.path.join(subset_dir, image_name)\n",
    "        \n",
    "        shutil.copy(image_path, dest_path)\n",
    "\n",
    "csv_path = '/home/ale/Documentos/PID/genero_manos/dataset/HandInfo.csv' \n",
    "df = pd.read_csv(csv_path)\n",
    "\n",
    "image_names = df['imageName'].values\n",
    "\n",
    "image_dir = '/home/ale/Documentos/PID/genero_manos/dataset/Hands/'\n",
    "\n",
    "X_train, X_temp = train_test_split(image_names, test_size=0.3, random_state=42) \n",
    "X_val, X_test = train_test_split(X_temp, test_size=0.5, random_state=42) \n",
    "\n",
    "base_dir = '/home/ale/Documentos/PID/genero_manos/dataset/image' \n",
    "subsets = ['train', 'val', 'test']  \n",
    "create_directories(base_dir, subsets)\n",
    "\n",
    "save_images_to_folders(X_train, X_train, 'train', image_dir, base_dir)\n",
    "save_images_to_folders(X_val, X_val, 'val', image_dir, base_dir)\n",
    "save_images_to_folders(X_test, X_test, 'test', image_dir, base_dir)\n",
    "\n",
    "print(f'Imágenes guardadas en {base_dir}')\n"
   ]
  }
 ],
 "metadata": {
  "kernelspec": {
   "display_name": "venv",
   "language": "python",
   "name": "python3"
  },
  "language_info": {
   "codemirror_mode": {
    "name": "ipython",
    "version": 3
   },
   "file_extension": ".py",
   "mimetype": "text/x-python",
   "name": "python",
   "nbconvert_exporter": "python",
   "pygments_lexer": "ipython3",
   "version": "3.10.16"
  }
 },
 "nbformat": 4,
 "nbformat_minor": 2
}
